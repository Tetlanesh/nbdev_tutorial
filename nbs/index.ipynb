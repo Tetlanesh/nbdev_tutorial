{
 "cells": [
  {
   "cell_type": "code",
   "execution_count": null,
   "metadata": {},
   "outputs": [],
   "source": [
    "#| hide\n",
    "from nbdev_tutorial.core import *\n",
    "from nbdev.showdoc import show_doc"
   ]
  },
  {
   "cell_type": "markdown",
   "metadata": {},
   "source": [
    "# nbdev_tutorial\n",
    "\n",
    "> test nbdev tutorial"
   ]
  },
  {
   "cell_type": "markdown",
   "metadata": {},
   "source": [
    "This file will become your README and also the index of your documentation."
   ]
  },
  {
   "cell_type": "markdown",
   "metadata": {},
   "source": [
    "## Install "
   ]
  },
  {
   "cell_type": "markdown",
   "metadata": {},
   "source": [
    "```sh\n",
    "pip install nbdev_tutorial\n",
    "```"
   ]
  },
  {
   "cell_type": "markdown",
   "metadata": {},
   "source": [
    "## How to get `nbdev` to work"
   ]
  },
  {
   "cell_type": "markdown",
   "metadata": {},
   "source": [
    "I'm on Win10 and instead of playing with wirtualbox I went with `WSL` and `Anaconda` so not all steps may apply to You if You run native Linux or Mac or Windows.\n",
    "\n",
    "1. Install WSL (using windows store)\n",
    "2. Install anaconda in WSL terminal - follow steps in [this blog](https://emilykauffman.com/blog/install-anaconda-on-wsl)\n",
    "3. create new conda env using `conda create --name env_name python=3.10`\n",
    "4. Activate your new env using `conda activate [env name]`\n",
    "5. install nbdev and few other packages \n",
    "    1. `conda install -c fastai nbdev`\n",
    "    2. `conda install jupyter ipykernel pandas scikit-learn`\n",
    "6. register your env with jupyter: `python -m ipykernel install --user --name=[your env name]`\n",
    "7. install quarto:\n",
    "    1. I've used `Linux Tarball` as platform on [download page](https://quarto.org/docs/download/)\n",
    "    2. after selecting your download method you will get list of commands to run, in my case it was:\n",
    "        1. `wget https://github.com/quarto-dev/quarto-cli/releases/download/v1.2.258/quarto-1.2.258-linux-amd64.tar.gz` - downloads tarball\n",
    "        2. `mkdir ~/opt` \n",
    "        3. `tar -C ~/opt -xvzf quarto-1.2.258-linux-amd64.tar.gz` - extract content of tarball\n",
    "        4. `mkdir ~/bin`\n",
    "        5. `ln -s ~/opt/quarto-1.2.258/bin/quarto ~/bin/quarto` - create a link to quarto directory in your home directory\n",
    "        6. `( echo \"\"; echo 'export PATH=$PATH:~/bin\\n' ; echo \"\" ) >> ~/.bashrc` - add the link to your PATH\n",
    "        7. `source ~/.bashrc` - rerun the .bashrc\n",
    "        8. `quarto check` - you should get all ok (except R) and it should report your conda repo version of python\n",
    "8. create github repo and clone it to folder where you want to keep yddddour project files - `git clone [repo url]`\n",
    "9. navigate to your project dir and run `nbdev_new` - this will create multiple new files and directories needed for library to nbdev, documantation, ci, etc - most importantly creates `nbs` dir where the notebooks sits and `[your_project_name]` dir where the actuall library code will sit\n",
    "10. run `nbdev_export` - this will run all export commands from your project (we will explain more on that later - if you havent changed anything this should create core.py in your project code folder that reflect `00_core.ipynb` content).\n",
    "11. run `pip install -e .` - this will install your package for local development allowing you to import stuff"
   ]
  },
  {
   "cell_type": "code",
   "execution_count": null,
   "metadata": {},
   "outputs": [
    {
     "data": {
      "text/markdown": [
       "---\n",
       "\n",
       "[source](https://github.com/Tetlanesh/nbdev_tutorial/blob/main/nbdev_tutorial/core.py#LNone){target=\"_blank\" style=\"float:right; font-size:smaller\"}\n",
       "\n",
       "### foo2\n",
       "\n",
       ">      foo2 ()"
      ],
      "text/plain": [
       "---\n",
       "\n",
       "[source](https://github.com/Tetlanesh/nbdev_tutorial/blob/main/nbdev_tutorial/core.py#LNone){target=\"_blank\" style=\"float:right; font-size:smaller\"}\n",
       "\n",
       "### foo2\n",
       "\n",
       ">      foo2 ()"
      ]
     },
     "execution_count": null,
     "metadata": {},
     "output_type": "execute_result"
    }
   ],
   "source": [
    "show_doc(foo2)"
   ]
  },
  {
   "cell_type": "code",
   "execution_count": null,
   "metadata": {},
   "outputs": [
    {
     "data": {
      "text/markdown": [
       "---\n",
       "\n",
       "[source](https://github.com/Tetlanesh/nbdev_tutorial/blob/main/nbdev_tutorial/core.py#LNone){target=\"_blank\" style=\"float:right; font-size:smaller\"}\n",
       "\n",
       "### foo2\n",
       "\n",
       ">      foo2 ()"
      ],
      "text/plain": [
       "---\n",
       "\n",
       "[source](https://github.com/Tetlanesh/nbdev_tutorial/blob/main/nbdev_tutorial/core.py#LNone){target=\"_blank\" style=\"float:right; font-size:smaller\"}\n",
       "\n",
       "### foo2\n",
       "\n",
       ">      foo2 ()"
      ]
     },
     "execution_count": null,
     "metadata": {},
     "output_type": "execute_result"
    }
   ],
   "source": [
    "show_doc(foo2)"
   ]
  },
  {
   "cell_type": "code",
   "execution_count": null,
   "metadata": {},
   "outputs": [],
   "source": []
  }
 ],
 "metadata": {
  "kernelspec": {
   "display_name": "nbdev1",
   "language": "python",
   "name": "nbdev1"
  }
 },
 "nbformat": 4,
 "nbformat_minor": 4
}
